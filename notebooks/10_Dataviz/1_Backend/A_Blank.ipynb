{
 "cells": [
  {
   "attachments": {},
   "cell_type": "markdown",
   "id": "9d054a26",
   "metadata": {
    "papermill": {
     "duration": 0.004274,
     "end_time": "2024-06-15T23:13:10.145437",
     "exception": false,
     "start_time": "2024-06-15T23:13:10.141163",
     "status": "completed"
    },
    "tags": []
   },
   "source": [
    "# Basic Streamlit App"
   ]
  },
  {
   "attachments": {},
   "cell_type": "markdown",
   "id": "13a1ab19",
   "metadata": {
    "papermill": {
     "duration": 0.002666,
     "end_time": "2024-06-15T23:13:10.151381",
     "exception": false,
     "start_time": "2024-06-15T23:13:10.148715",
     "status": "completed"
    },
    "tags": []
   },
   "source": [
    "## Load data"
   ]
  },
  {
   "cell_type": "code",
   "execution_count": 2,
   "id": "522edc2b",
   "metadata": {
    "execution": {
     "iopub.execute_input": "2024-06-15T23:13:10.155678Z",
     "iopub.status.busy": "2024-06-15T23:13:10.155337Z",
     "iopub.status.idle": "2024-06-15T23:13:10.168154Z",
     "shell.execute_reply": "2024-06-15T23:13:10.167791Z"
    },
    "papermill": {
     "duration": 0.016163,
     "end_time": "2024-06-15T23:13:10.169143",
     "exception": false,
     "start_time": "2024-06-15T23:13:10.152980",
     "status": "completed"
    },
    "tags": []
   },
   "outputs": [],
   "source": [
    "import pandas as pd"
   ]
  },
  {
   "cell_type": "code",
   "execution_count": 3,
   "id": "f08c2270",
   "metadata": {},
   "outputs": [
    {
     "data": {
      "text/html": [
       "<div>\n",
       "<style scoped>\n",
       "    .dataframe tbody tr th:only-of-type {\n",
       "        vertical-align: middle;\n",
       "    }\n",
       "\n",
       "    .dataframe tbody tr th {\n",
       "        vertical-align: top;\n",
       "    }\n",
       "\n",
       "    .dataframe thead th {\n",
       "        text-align: right;\n",
       "    }\n",
       "</style>\n",
       "<table border=\"1\" class=\"dataframe\">\n",
       "  <thead>\n",
       "    <tr style=\"text-align: right;\">\n",
       "      <th></th>\n",
       "      <th>idfam</th>\n",
       "      <th>idper</th>\n",
       "      <th>tiphogar</th>\n",
       "      <th>relac</th>\n",
       "      <th>edad</th>\n",
       "      <th>sexo</th>\n",
       "      <th>pnac</th>\n",
       "      <th>zona</th>\n",
       "      <th>time</th>\n",
       "      <th>dtrab</th>\n",
       "      <th>salmed</th>\n",
       "    </tr>\n",
       "  </thead>\n",
       "  <tbody>\n",
       "    <tr>\n",
       "      <th>0</th>\n",
       "      <td>A000486A</td>\n",
       "      <td>Z8397138</td>\n",
       "      <td>2</td>\n",
       "      <td>HIJO/A</td>\n",
       "      <td>11</td>\n",
       "      <td>Hombre</td>\n",
       "      <td>ESPAÑA</td>\n",
       "      <td>AREQUITO</td>\n",
       "      <td>21</td>\n",
       "      <td>NaN</td>\n",
       "      <td>NaN</td>\n",
       "    </tr>\n",
       "    <tr>\n",
       "      <th>1</th>\n",
       "      <td>A000486A</td>\n",
       "      <td>Z7519998</td>\n",
       "      <td>2</td>\n",
       "      <td>HIJO/A</td>\n",
       "      <td>16</td>\n",
       "      <td>Mujer</td>\n",
       "      <td>ESPAÑA</td>\n",
       "      <td>AREQUITO</td>\n",
       "      <td>21</td>\n",
       "      <td>NaN</td>\n",
       "      <td>NaN</td>\n",
       "    </tr>\n",
       "    <tr>\n",
       "      <th>2</th>\n",
       "      <td>A000486A</td>\n",
       "      <td>R5680622</td>\n",
       "      <td>2</td>\n",
       "      <td>PRINCIPAL</td>\n",
       "      <td>37</td>\n",
       "      <td>Hombre</td>\n",
       "      <td>RUMANIA</td>\n",
       "      <td>AREQUITO</td>\n",
       "      <td>21</td>\n",
       "      <td>503.0</td>\n",
       "      <td>975.0</td>\n",
       "    </tr>\n",
       "    <tr>\n",
       "      <th>3</th>\n",
       "      <td>A000486A</td>\n",
       "      <td>B7854032</td>\n",
       "      <td>2</td>\n",
       "      <td>CONYUGE</td>\n",
       "      <td>38</td>\n",
       "      <td>Mujer</td>\n",
       "      <td>RUMANIA</td>\n",
       "      <td>AREQUITO</td>\n",
       "      <td>21</td>\n",
       "      <td>429.0</td>\n",
       "      <td>454.0</td>\n",
       "    </tr>\n",
       "    <tr>\n",
       "      <th>4</th>\n",
       "      <td>A000486A</td>\n",
       "      <td>Y9397616</td>\n",
       "      <td>2</td>\n",
       "      <td>HIJO/A</td>\n",
       "      <td>14</td>\n",
       "      <td>Hombre</td>\n",
       "      <td>ESPAÑA</td>\n",
       "      <td>AREQUITO</td>\n",
       "      <td>21</td>\n",
       "      <td>NaN</td>\n",
       "      <td>NaN</td>\n",
       "    </tr>\n",
       "    <tr>\n",
       "      <th>...</th>\n",
       "      <td>...</td>\n",
       "      <td>...</td>\n",
       "      <td>...</td>\n",
       "      <td>...</td>\n",
       "      <td>...</td>\n",
       "      <td>...</td>\n",
       "      <td>...</td>\n",
       "      <td>...</td>\n",
       "      <td>...</td>\n",
       "      <td>...</td>\n",
       "      <td>...</td>\n",
       "    </tr>\n",
       "    <tr>\n",
       "      <th>995</th>\n",
       "      <td>A138067Y</td>\n",
       "      <td>N7621898</td>\n",
       "      <td>3</td>\n",
       "      <td>HIJO/A</td>\n",
       "      <td>11</td>\n",
       "      <td>Hombre</td>\n",
       "      <td>ESPAÑA</td>\n",
       "      <td>AREQUITO</td>\n",
       "      <td>27</td>\n",
       "      <td>NaN</td>\n",
       "      <td>NaN</td>\n",
       "    </tr>\n",
       "    <tr>\n",
       "      <th>996</th>\n",
       "      <td>A138067Y</td>\n",
       "      <td>X6136576</td>\n",
       "      <td>3</td>\n",
       "      <td>HIJO/A</td>\n",
       "      <td>9</td>\n",
       "      <td>Hombre</td>\n",
       "      <td>ESPAÑA</td>\n",
       "      <td>AREQUITO</td>\n",
       "      <td>27</td>\n",
       "      <td>NaN</td>\n",
       "      <td>NaN</td>\n",
       "    </tr>\n",
       "    <tr>\n",
       "      <th>997</th>\n",
       "      <td>A138067Y</td>\n",
       "      <td>J7157047</td>\n",
       "      <td>3</td>\n",
       "      <td>HIJO/A</td>\n",
       "      <td>6</td>\n",
       "      <td>Mujer</td>\n",
       "      <td>ESPAÑA</td>\n",
       "      <td>AREQUITO</td>\n",
       "      <td>27</td>\n",
       "      <td>NaN</td>\n",
       "      <td>NaN</td>\n",
       "    </tr>\n",
       "    <tr>\n",
       "      <th>998</th>\n",
       "      <td>A138067Y</td>\n",
       "      <td>H6969549</td>\n",
       "      <td>3</td>\n",
       "      <td>CONYUGE</td>\n",
       "      <td>34</td>\n",
       "      <td>Mujer</td>\n",
       "      <td>MARRUECOS</td>\n",
       "      <td>AREQUITO</td>\n",
       "      <td>27</td>\n",
       "      <td>387.0</td>\n",
       "      <td>852.0</td>\n",
       "    </tr>\n",
       "    <tr>\n",
       "      <th>999</th>\n",
       "      <td>A138067Y</td>\n",
       "      <td>X5250353</td>\n",
       "      <td>3</td>\n",
       "      <td>PRINCIPAL</td>\n",
       "      <td>44</td>\n",
       "      <td>Hombre</td>\n",
       "      <td>MARRUECOS</td>\n",
       "      <td>AREQUITO</td>\n",
       "      <td>27</td>\n",
       "      <td>439.0</td>\n",
       "      <td>1298.0</td>\n",
       "    </tr>\n",
       "  </tbody>\n",
       "</table>\n",
       "<p>1000 rows × 11 columns</p>\n",
       "</div>"
      ],
      "text/plain": [
       "        idfam     idper  tiphogar      relac  edad    sexo       pnac  \\\n",
       "0    A000486A  Z8397138         2     HIJO/A    11  Hombre     ESPAÑA   \n",
       "1    A000486A  Z7519998         2     HIJO/A    16   Mujer     ESPAÑA   \n",
       "2    A000486A  R5680622         2  PRINCIPAL    37  Hombre    RUMANIA   \n",
       "3    A000486A  B7854032         2    CONYUGE    38   Mujer    RUMANIA   \n",
       "4    A000486A  Y9397616         2     HIJO/A    14  Hombre     ESPAÑA   \n",
       "..        ...       ...       ...        ...   ...     ...        ...   \n",
       "995  A138067Y  N7621898         3     HIJO/A    11  Hombre     ESPAÑA   \n",
       "996  A138067Y  X6136576         3     HIJO/A     9  Hombre     ESPAÑA   \n",
       "997  A138067Y  J7157047         3     HIJO/A     6   Mujer     ESPAÑA   \n",
       "998  A138067Y  H6969549         3    CONYUGE    34   Mujer  MARRUECOS   \n",
       "999  A138067Y  X5250353         3  PRINCIPAL    44  Hombre  MARRUECOS   \n",
       "\n",
       "         zona  time  dtrab  salmed  \n",
       "0    AREQUITO    21    NaN     NaN  \n",
       "1    AREQUITO    21    NaN     NaN  \n",
       "2    AREQUITO    21  503.0   975.0  \n",
       "3    AREQUITO    21  429.0   454.0  \n",
       "4    AREQUITO    21    NaN     NaN  \n",
       "..        ...   ...    ...     ...  \n",
       "995  AREQUITO    27    NaN     NaN  \n",
       "996  AREQUITO    27    NaN     NaN  \n",
       "997  AREQUITO    27    NaN     NaN  \n",
       "998  AREQUITO    27  387.0   852.0  \n",
       "999  AREQUITO    27  439.0  1298.0  \n",
       "\n",
       "[1000 rows x 11 columns]"
      ]
     },
     "execution_count": 3,
     "metadata": {},
     "output_type": "execute_result"
    }
   ],
   "source": [
    "pd.read_excel(\"../../../dataL/dfprueba.xlsx\")"
   ]
  },
  {
   "cell_type": "code",
   "execution_count": null,
   "id": "d47499e1",
   "metadata": {},
   "outputs": [],
   "source": []
  },
  {
   "attachments": {},
   "cell_type": "markdown",
   "id": "d206527f",
   "metadata": {
    "papermill": {
     "duration": 0.000592,
     "end_time": "2024-06-15T23:13:10.170460",
     "exception": false,
     "start_time": "2024-06-15T23:13:10.169868",
     "status": "completed"
    },
    "tags": []
   },
   "source": [
    "## Data visualization"
   ]
  },
  {
   "cell_type": "code",
   "execution_count": null,
   "id": "a2f9ac1a",
   "metadata": {
    "execution": {
     "iopub.execute_input": "2024-06-15T23:13:10.172278Z",
     "iopub.status.busy": "2024-06-15T23:13:10.172175Z",
     "iopub.status.idle": "2024-06-15T23:13:10.746540Z",
     "shell.execute_reply": "2024-06-15T23:13:10.746188Z"
    },
    "papermill": {
     "duration": 0.576319,
     "end_time": "2024-06-15T23:13:10.747445",
     "exception": false,
     "start_time": "2024-06-15T23:13:10.171126",
     "status": "completed"
    },
    "tags": []
   },
   "outputs": [],
   "source": []
  },
  {
   "attachments": {},
   "cell_type": "markdown",
   "id": "89a049f0",
   "metadata": {
    "papermill": {
     "duration": 0.001094,
     "end_time": "2024-06-15T23:13:10.749850",
     "exception": false,
     "start_time": "2024-06-15T23:13:10.748756",
     "status": "completed"
    },
    "tags": []
   },
   "source": [
    "## Create app\n",
    "\n",
    "1. Create a file `app.py`\n",
    "2. Add the previous code"
   ]
  }
 ],
 "metadata": {
  "kernelspec": {
   "display_name": "Python 3",
   "language": "python",
   "name": "python3"
  },
  "language_info": {
   "codemirror_mode": {
    "name": "ipython",
    "version": 3
   },
   "file_extension": ".py",
   "mimetype": "text/x-python",
   "name": "python",
   "nbconvert_exporter": "python",
   "pygments_lexer": "ipython3",
   "version": "3.11.4"
  },
  "papermill": {
   "default_parameters": {},
   "duration": 1.578603,
   "end_time": "2024-06-15T23:13:10.967848",
   "environment_variables": {},
   "exception": null,
   "input_path": "/Users/sota/Library/CloudStorage/Dropbox/2 Business/1 Datons/2 Areas/Courses/2 Catalogue/10 DF/1 Materials/DF-P/notebooks/10_Dataviz/1_Backend/B_Solution.ipynb",
   "output_path": "/Users/sota/Library/CloudStorage/Dropbox/2 Business/1 Datons/2 Areas/Courses/2 Catalogue/10 DF/1 Materials/DF-P/notebooks/10_Dataviz/1_Backend/B_Solution.ipynb",
   "parameters": {},
   "start_time": "2024-06-15T23:13:09.389245",
   "version": "2.6.0"
  }
 },
 "nbformat": 4,
 "nbformat_minor": 5
}
